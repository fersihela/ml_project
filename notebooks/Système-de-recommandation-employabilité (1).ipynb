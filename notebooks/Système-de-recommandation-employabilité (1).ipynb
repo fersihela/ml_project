{
 "cells": [
  {
   "cell_type": "code",
   "execution_count": 1,
   "id": "d6a6913c",
   "metadata": {},
   "outputs": [
    {
     "name": "stdout",
     "output_type": "stream",
     "text": [
      "✅ Connexion réussie à PostgreSQL !\n",
      "📦 Version PostgreSQL : PostgreSQL 15.10, compiled by Visual C++ build 1942, 64-bit\n"
     ]
    }
   ],
   "source": [
    "import pandas as pd\n",
    "from sqlalchemy import create_engine, text\n",
    "from sqlalchemy.exc import OperationalError\n",
    "\n",
    "# === Paramètres de connexion ===\n",
    "host = \"localhost\"\n",
    "port = \"5432\"\n",
    "database = \"Admission_DW_new\"\n",
    "username = \"postgres\"\n",
    "password = \"hela\"\n",
    "\n",
    "\n",
    "# === Connexion à PostgreSQL ===\n",
    "db_url = f\"postgresql+psycopg2://{username}:{password}@{host}:{port}/{database}\"\n",
    "\n",
    "try:\n",
    "    engine = create_engine(db_url)\n",
    "\n",
    "    # Test de connexion\n",
    "    with engine.connect() as connection:\n",
    "        result = connection.execute(text(\"SELECT version();\"))\n",
    "        version = result.fetchone()\n",
    "        print(\"✅ Connexion réussie à PostgreSQL !\")\n",
    "        print(\"📦 Version PostgreSQL :\", version[0])\n",
    "\n",
    "\n",
    "    df_profil = pd.read_sql('SELECT * FROM \"DimProfil\";', engine)\n",
    "        # === Import des tables nécessaires pour l’objectif ML ===\n",
    "    df_localisation = pd.read_sql('SELECT * FROM \"DimLocalisation\";', engine)\n",
    "    df_employabilite = pd.read_sql('SELECT * FROM \"FactEmployabilite\";', engine)\n",
    "    df_offre = pd.read_sql('SELECT * FROM \"DimOffre\";', engine)\n",
    "    df_dates = pd.read_sql(\"SELECT * FROM dimdates;\", engine)\n",
    "except OperationalError as e:\n",
    "    print(\"❌ Erreur de connexion à la base de données :\")\n",
    "    print(e)\n"
   ]
  },
  {
   "cell_type": "code",
   "execution_count": null,
   "id": "be69342e-3905-43c2-814f-165369a1bfb5",
   "metadata": {},
   "outputs": [],
   "source": [
    "query = \"\"\"\n",
    "SELECT \n",
    "    p.skills,\n",
    "    p.industry,\n",
    "    o.\"secteur\",\n",
    "    o.\"competence\",\n",
    "    o.\"offre\"\n",
    "FROM \"FactEmployabilite\" f\n",
    "JOIN \"DimProfil\" p ON f.\"fkProfil\" = p.\"PkProfil\"\n",
    "JOIN \"DimOffre\" o ON f.\"fkOffre\" = o.\"pkOffre\";\n",
    "\"\"\"\n",
    "df_reco = pd.read_sql(query, engine)\n",
    "df_reco.head()\n"
   ]
  },
  {
   "cell_type": "code",
   "execution_count": 3,
   "id": "b714b7b2",
   "metadata": {},
   "outputs": [],
   "source": [
    "df_reco = df_reco.fillna('')  # Remplacer les NaN par ''\n",
    "df_reco['profil_description'] = (\n",
    "    df_reco['secteur'] + ' ' +\n",
    "    2 * df_reco['skills'] + ' ' +  # plus d’importance à industry\n",
    "    df_reco['secteur'] + ' ' +\n",
    "    2 * df_reco['competence']       # plus d’importance à competence\n",
    ").str.lower()\n"
   ]
  },
  {
   "cell_type": "code",
   "execution_count": 4,
   "id": "04d35bf7",
   "metadata": {},
   "outputs": [],
   "source": [
    "from sklearn.feature_extraction.text import TfidfVectorizer\n",
    "\n",
    "vectorizer = TfidfVectorizer()\n",
    "tfidf_matrix = vectorizer.fit_transform(df_reco['profil_description'])\n"
   ]
  },
  {
   "cell_type": "code",
   "execution_count": 5,
   "id": "b79d16e3",
   "metadata": {},
   "outputs": [
    {
     "name": "stdout",
     "output_type": "stream",
     "text": [
      "Shape of TF-IDF matrix: (37719, 1355)\n",
      "Mots utilisés (vocabulaire):\n",
      "['10g' '14001' '15022' '17' '20022' '2eme' '360' '360autodesk' '365' '3d']\n",
      "TF-IDF (2 premiers profils):\n",
      "[[0. 0. 0. ... 0. 0. 0.]\n",
      " [0. 0. 0. ... 0. 0. 0.]]\n"
     ]
    }
   ],
   "source": [
    "# Dimensions de la matrice\n",
    "print(\"Shape of TF-IDF matrix:\", tfidf_matrix.shape)\n",
    "\n",
    "# Voir le vocabulaire appris\n",
    "print(\"Mots utilisés (vocabulaire):\")\n",
    "print(vectorizer.get_feature_names_out()[:10])  # juste les 10 premiers\n",
    "\n",
    "# Voir la matrice pour les 2 premiers profils\n",
    "print(\"TF-IDF (2 premiers profils):\")\n",
    "print(tfidf_matrix[:2].toarray())\n"
   ]
  },
  {
   "cell_type": "code",
   "execution_count": null,
   "id": "9ea3ad0c",
   "metadata": {},
   "outputs": [],
   "source": [
    "from sklearn.neighbors import NearestNeighbors\n",
    "import numpy as np\n",
    "import matplotlib.pyplot as plt\n",
    "\n",
    "# Tester plusieurs valeurs de k\n",
    "k_values = list(range(1, 11))\n",
    "avg_distances = []\n",
    "\n",
    "for k in k_values:\n",
    "    knn = NearestNeighbors(n_neighbors=k, metric='cosine')\n",
    "    knn.fit(tfidf_matrix)\n",
    "    \n",
    "    distances, _ = knn.kneighbors(tfidf_matrix)\n",
    "    avg_distance = distances.mean()\n",
    "    avg_distances.append(avg_distance)\n",
    "\n",
    "# Tracer les résultats\n",
    "plt.figure(figsize=(8, 4))\n",
    "plt.plot(k_values, avg_distances, marker='o')\n",
    "plt.title('Évaluation de différentes valeurs de k')\n",
    "plt.xlabel('Nombre de voisins (k)')\n",
    "plt.ylabel('Distance moyenne (cosine)')\n",
    "plt.grid(True)\n",
    "plt.show()\n"
   ]
  },
  {
   "cell_type": "code",
   "execution_count": null,
   "id": "103995ef",
   "metadata": {},
   "outputs": [],
   "source": [
    "def recommander_offres(input_profil, df_reco, vectorizer, tfidf_matrix, k=3):\n",
    "    input_vector = vectorizer.transform([input_profil.lower()])\n",
    "    knn = NearestNeighbors(n_neighbors=len(df_reco), metric='cosine')  # chercher sur tout\n",
    "    knn.fit(tfidf_matrix)\n",
    "    distances, indices = knn.kneighbors(input_vector)\n",
    "\n",
    "    print(f\"\\n🔍 Offres recommandées pour le profil : {input_profil}\\n\")\n",
    "    seen = set()\n",
    "    count = 0\n",
    "    for i, idx in enumerate(indices[0]):\n",
    "        offre = df_reco.iloc[idx]\n",
    "        offre_id = (offre['offre'], offre['secteur'], offre['competence'])  # tuple d’identifiants\n",
    "\n",
    "        if offre_id not in seen:\n",
    "            seen.add(offre_id)\n",
    "            similarite = (1 - distances[0][i]) * 100  # similarité en pourcentage\n",
    "            print(f\"{count+1}. Offre : {offre['offre']} | Secteur : {offre['secteur']}  Similarité : {similarite:.2f}%\")\n",
    "            count += 1\n",
    "            if count == k:\n",
    "                break\n"
   ]
  },
  {
   "cell_type": "code",
   "execution_count": null,
   "id": "81097753",
   "metadata": {},
   "outputs": [],
   "source": [
    "profil_input = \"python Data Scientist informatique teamwork\"\n",
    "recommander_offres(profil_input, df_reco, vectorizer, tfidf_matrix, k=3)\n"
   ]
  },
  {
   "cell_type": "code",
   "execution_count": null,
   "id": "a738fdf1",
   "metadata": {},
   "outputs": [],
   "source": []
  },
  {
   "cell_type": "code",
   "execution_count": null,
   "id": "443d5df7-c1b3-4aaa-bd99-b4cc9d1a873c",
   "metadata": {},
   "outputs": [],
   "source": []
  }
 ],
 "metadata": {
  "kernelspec": {
   "display_name": "Python 3 (ipykernel)",
   "language": "python",
   "name": "python3"
  },
  "language_info": {
   "codemirror_mode": {
    "name": "ipython",
    "version": 3
   },
   "file_extension": ".py",
   "mimetype": "text/x-python",
   "name": "python",
   "nbconvert_exporter": "python",
   "pygments_lexer": "ipython3",
   "version": "3.11.7"
  }
 },
 "nbformat": 4,
 "nbformat_minor": 5
}
